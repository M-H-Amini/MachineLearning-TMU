{
  "nbformat": 4,
  "nbformat_minor": 0,
  "metadata": {
    "colab": {
      "name": "MLe_TMU_Lec8.ipynb",
      "provenance": [],
      "collapsed_sections": [],
      "toc_visible": true,
      "authorship_tag": "ABX9TyNgARbmv7A+Ydhu79jJmDpB",
      "include_colab_link": true
    },
    "kernelspec": {
      "name": "python3",
      "display_name": "Python 3"
    }
  },
  "cells": [
    {
      "cell_type": "markdown",
      "metadata": {
        "id": "view-in-github",
        "colab_type": "text"
      },
      "source": [
        "<a href=\"https://colab.research.google.com/github/M-H-Amini/MachineLearning-TMU/blob/master/MLe_TMU_Lec8.ipynb\" target=\"_parent\"><img src=\"https://colab.research.google.com/assets/colab-badge.svg\" alt=\"Open In Colab\"/></a>"
      ]
    },
    {
      "cell_type": "markdown",
      "metadata": {
        "id": "Sxv8P7cejYxD"
      },
      "source": [
        "# In The Name Of ALLAH\n",
        "# Machine Learning *elementary* Course\n",
        "## Tarbiat Modares University\n",
        "### Mohammad Hossein Amini (mhamini@aut.ac.ir)\n",
        "# Lecture 8\n",
        "\n",
        "<img src=\"https://drive.google.com/uc?id=144SDpgv7EEy6Og1ZFNIv_nBaugKGiSCE\" width=\"400\">\n",
        "\n"
      ]
    },
    {
      "cell_type": "markdown",
      "metadata": {
        "id": "NW5FtD9qjemD"
      },
      "source": [
        "Let's experiment a little bit with neural networks."
      ]
    },
    {
      "cell_type": "code",
      "metadata": {
        "id": "rxo_up02YTAr"
      },
      "source": [
        "import numpy as np\n",
        "import matplotlib.pyplot as plt\n",
        "import keras\n",
        "from keras.layers import Dense\n",
        "from keras.models import Sequential"
      ],
      "execution_count": 9,
      "outputs": []
    },
    {
      "cell_type": "markdown",
      "metadata": {
        "id": "4Tqn3ZPzk3rg"
      },
      "source": [
        "#  Sinusoidal Example\n",
        "\n",
        "$y = sin(\\frac{\\pi}{4}x)$"
      ]
    },
    {
      "cell_type": "code",
      "metadata": {
        "id": "rMLDzaKLETnD",
        "outputId": "f91d7987-3918-42bf-ecbd-7ca94ecac7a1",
        "colab": {
          "base_uri": "https://localhost:8080/",
          "height": 282
        }
      },
      "source": [
        "X = np.linspace(-2, 2, 21)[:, np.newaxis]\n",
        "y = np.sin(X * np.pi / 4)\n",
        "\n",
        "print(X.shape, y.shape)\n",
        "\n",
        "plt.figure()\n",
        "plt.plot(X, y, 'rx')\n",
        "plt.show()"
      ],
      "execution_count": 7,
      "outputs": [
        {
          "output_type": "stream",
          "text": [
            "(21, 1) (21, 1)\n"
          ],
          "name": "stdout"
        },
        {
          "output_type": "display_data",
          "data": {
            "image/png": "[encoded data removed]",
            "text/plain": [
              "<Figure size 432x288 with 1 Axes>"
            ]
          },
          "metadata": {
            "tags": [],
            "needs_background": "light"
          }
        }
      ]
    },
    {
      "cell_type": "code",
      "metadata": {
        "id": "ncsrev63YnK4"
      },
      "source": [
        "model = Sequential()\n",
        "model.add(Dense(4, activation='sigmoid', input_shape=(1,)))\n",
        "model.add(Dense(1, activation='linear'))\n",
        "# model.summary()"
      ],
      "execution_count": 14,
      "outputs": []
    },
    {
      "cell_type": "code",
      "metadata": {
        "id": "J7l5DzYXbHTt"
      },
      "source": [
        "model.compile(optimizer='adam', loss='mse')"
      ],
      "execution_count": 16,
      "outputs": []
    },
    {
      "cell_type": "code",
      "metadata": {
        "id": "iKa-naOJbPpB",
        "outputId": "6694f9cf-1ec7-48f1-df0e-c0bc778cd241",
        "colab": {
          "base_uri": "https://localhost:8080/",
          "height": 0
        }
      },
      "source": [
        "model.fit(X, y, batch_size=4, epochs=100)"
      ],
      "execution_count": 19,
      "outputs": [
        {
          "output_type": "stream",
          "text": [
            "Epoch 1/100\n",
            "6/6 [==============================] - 0s 1ms/step - loss: 0.0099\n",
            "Epoch 2/100\n",
            "6/6 [==============================] - 0s 2ms/step - loss: 0.0096\n",
            "Epoch 3/100\n",
            "6/6 [==============================] - 0s 2ms/step - loss: 0.0093\n",
            "Epoch 4/100\n",
            "6/6 [==============================] - 0s 2ms/step - loss: 0.0090\n",
            "Epoch 5/100\n",
            "6/6 [==============================] - 0s 2ms/step - loss: 0.0087\n",
            "Epoch 6/100\n",
            "6/6 [==============================] - 0s 2ms/step - loss: 0.0084\n",
            "Epoch 7/100\n",
            "6/6 [==============================] - 0s 2ms/step - loss: 0.0081\n",
            "Epoch 8/100\n",
            "6/6 [==============================] - 0s 2ms/step - loss: 0.0079\n",
            "Epoch 9/100\n",
            "6/6 [==============================] - 0s 2ms/step - loss: 0.0076\n",
            "Epoch 10/100\n",
            "6/6 [==============================] - 0s 2ms/step - loss: 0.0074\n",
            "Epoch 11/100\n",
            "6/6 [==============================] - 0s 1ms/step - loss: 0.0071\n",
            "Epoch 12/100\n",
            "6/6 [==============================] - 0s 2ms/step - loss: 0.0069\n",
            "Epoch 13/100\n",
            "6/6 [==============================] - 0s 1ms/step - loss: 0.0066\n",
            "Epoch 14/100\n",
            "6/6 [==============================] - 0s 2ms/step - loss: 0.0064\n",
            "Epoch 15/100\n",
            "6/6 [==============================] - 0s 2ms/step - loss: 0.0062\n",
            "Epoch 16/100\n",
            "6/6 [==============================] - 0s 2ms/step - loss: 0.0060\n",
            "Epoch 17/100\n",
            "6/6 [==============================] - 0s 2ms/step - loss: 0.0058\n",
            "Epoch 18/100\n",
            "6/6 [==============================] - 0s 4ms/step - loss: 0.0056\n",
            "Epoch 19/100\n",
            "6/6 [==============================] - 0s 2ms/step - loss: 0.0054\n",
            "Epoch 20/100\n",
            "6/6 [==============================] - 0s 1ms/step - loss: 0.0052\n",
            "Epoch 21/100\n",
            "6/6 [==============================] - 0s 2ms/step - loss: 0.0051\n",
            "Epoch 22/100\n",
            "6/6 [==============================] - 0s 2ms/step - loss: 0.0049\n",
            "Epoch 23/100\n",
            "6/6 [==============================] - 0s 2ms/step - loss: 0.0048\n",
            "Epoch 24/100\n",
            "6/6 [==============================] - 0s 2ms/step - loss: 0.0046\n",
            "Epoch 25/100\n",
            "6/6 [==============================] - 0s 2ms/step - loss: 0.0044\n",
            "Epoch 26/100\n",
            "6/6 [==============================] - 0s 2ms/step - loss: 0.0043\n",
            "Epoch 27/100\n",
            "6/6 [==============================] - 0s 2ms/step - loss: 0.0042\n",
            "Epoch 28/100\n",
            "6/6 [==============================] - 0s 2ms/step - loss: 0.0040\n",
            "Epoch 29/100\n",
            "6/6 [==============================] - 0s 2ms/step - loss: 0.0039\n",
            "Epoch 30/100\n",
            "6/6 [==============================] - 0s 2ms/step - loss: 0.0038\n",
            "Epoch 31/100\n",
            "6/6 [==============================] - 0s 2ms/step - loss: 0.0036\n",
            "Epoch 32/100\n",
            "6/6 [==============================] - 0s 2ms/step - loss: 0.0035\n",
            "Epoch 33/100\n",
            "6/6 [==============================] - 0s 2ms/step - loss: 0.0034\n",
            "Epoch 34/100\n",
            "6/6 [==============================] - 0s 2ms/step - loss: 0.0033\n",
            "Epoch 35/100\n",
            "6/6 [==============================] - 0s 2ms/step - loss: 0.0031\n",
            "Epoch 36/100\n",
            "6/6 [==============================] - 0s 2ms/step - loss: 0.0030\n",
            "Epoch 37/100\n",
            "6/6 [==============================] - 0s 2ms/step - loss: 0.0029\n",
            "Epoch 38/100\n",
            "6/6 [==============================] - 0s 2ms/step - loss: 0.0028\n",
            "Epoch 39/100\n",
            "6/6 [==============================] - 0s 2ms/step - loss: 0.0027\n",
            "Epoch 40/100\n",
            "6/6 [==============================] - 0s 2ms/step - loss: 0.0027\n",
            "Epoch 41/100\n",
            "6/6 [==============================] - 0s 2ms/step - loss: 0.0026\n",
            "Epoch 42/100\n",
            "6/6 [==============================] - 0s 1ms/step - loss: 0.0025\n",
            "Epoch 43/100\n",
            "6/6 [==============================] - 0s 2ms/step - loss: 0.0024\n",
            "Epoch 44/100\n",
            "6/6 [==============================] - 0s 1ms/step - loss: 0.0023\n",
            "Epoch 45/100\n",
            "6/6 [==============================] - 0s 2ms/step - loss: 0.0022\n",
            "Epoch 46/100\n",
            "6/6 [==============================] - 0s 1ms/step - loss: 0.0022\n",
            "Epoch 47/100\n",
            "6/6 [==============================] - 0s 3ms/step - loss: 0.0021\n",
            "Epoch 48/100\n",
            "6/6 [==============================] - 0s 2ms/step - loss: 0.0020\n",
            "Epoch 49/100\n",
            "6/6 [==============================] - 0s 2ms/step - loss: 0.0019\n",
            "Epoch 50/100\n",
            "6/6 [==============================] - 0s 2ms/step - loss: 0.0019\n",
            "Epoch 51/100\n",
            "6/6 [==============================] - 0s 2ms/step - loss: 0.0018\n",
            "Epoch 52/100\n",
            "6/6 [==============================] - 0s 2ms/step - loss: 0.0017\n",
            "Epoch 53/100\n",
            "6/6 [==============================] - 0s 2ms/step - loss: 0.0017\n",
            "Epoch 54/100\n",
            "6/6 [==============================] - 0s 2ms/step - loss: 0.0016\n",
            "Epoch 55/100\n",
            "6/6 [==============================] - 0s 2ms/step - loss: 0.0016\n",
            "Epoch 56/100\n",
            "6/6 [==============================] - 0s 3ms/step - loss: 0.0015\n",
            "Epoch 57/100\n",
            "6/6 [==============================] - 0s 3ms/step - loss: 0.0015\n",
            "Epoch 58/100\n",
            "6/6 [==============================] - 0s 2ms/step - loss: 0.0014\n",
            "Epoch 59/100\n",
            "6/6 [==============================] - 0s 3ms/step - loss: 0.0014\n",
            "Epoch 60/100\n",
            "6/6 [==============================] - 0s 3ms/step - loss: 0.0013\n",
            "Epoch 61/100\n",
            "6/6 [==============================] - 0s 2ms/step - loss: 0.0013\n",
            "Epoch 62/100\n",
            "6/6 [==============================] - 0s 2ms/step - loss: 0.0013\n",
            "Epoch 63/100\n",
            "6/6 [==============================] - 0s 2ms/step - loss: 0.0012\n",
            "Epoch 64/100\n",
            "6/6 [==============================] - 0s 2ms/step - loss: 0.0012\n",
            "Epoch 65/100\n",
            "6/6 [==============================] - 0s 2ms/step - loss: 0.0011\n",
            "Epoch 66/100\n",
            "6/6 [==============================] - 0s 2ms/step - loss: 0.0011\n",
            "Epoch 67/100\n",
            "6/6 [==============================] - 0s 2ms/step - loss: 0.0011\n",
            "Epoch 68/100\n",
            "6/6 [==============================] - 0s 3ms/step - loss: 0.0011\n",
            "Epoch 69/100\n",
            "6/6 [==============================] - 0s 2ms/step - loss: 0.0010\n",
            "Epoch 70/100\n",
            "6/6 [==============================] - 0s 2ms/step - loss: 9.8259e-04\n",
            "Epoch 71/100\n",
            "6/6 [==============================] - 0s 3ms/step - loss: 9.5365e-04\n",
            "Epoch 72/100\n",
            "6/6 [==============================] - 0s 2ms/step - loss: 9.2814e-04\n",
            "Epoch 73/100\n",
            "6/6 [==============================] - 0s 2ms/step - loss: 8.9932e-04\n",
            "Epoch 74/100\n",
            "6/6 [==============================] - 0s 2ms/step - loss: 8.7619e-04\n",
            "Epoch 75/100\n",
            "6/6 [==============================] - 0s 2ms/step - loss: 8.5338e-04\n",
            "Epoch 76/100\n",
            "6/6 [==============================] - 0s 2ms/step - loss: 8.3218e-04\n",
            "Epoch 77/100\n",
            "6/6 [==============================] - 0s 3ms/step - loss: 8.0834e-04\n",
            "Epoch 78/100\n",
            "6/6 [==============================] - 0s 2ms/step - loss: 7.8512e-04\n",
            "Epoch 79/100\n",
            "6/6 [==============================] - 0s 3ms/step - loss: 7.6421e-04\n",
            "Epoch 80/100\n",
            "6/6 [==============================] - 0s 3ms/step - loss: 7.4098e-04\n",
            "Epoch 81/100\n",
            "6/6 [==============================] - 0s 2ms/step - loss: 7.2144e-04\n",
            "Epoch 82/100\n",
            "6/6 [==============================] - 0s 2ms/step - loss: 7.0127e-04\n",
            "Epoch 83/100\n",
            "6/6 [==============================] - 0s 2ms/step - loss: 6.7809e-04\n",
            "Epoch 84/100\n",
            "6/6 [==============================] - 0s 2ms/step - loss: 6.6324e-04\n",
            "Epoch 85/100\n",
            "6/6 [==============================] - 0s 2ms/step - loss: 6.4419e-04\n",
            "Epoch 86/100\n",
            "6/6 [==============================] - 0s 2ms/step - loss: 6.2755e-04\n",
            "Epoch 87/100\n",
            "6/6 [==============================] - 0s 2ms/step - loss: 6.1172e-04\n",
            "Epoch 88/100\n",
            "6/6 [==============================] - 0s 2ms/step - loss: 5.9644e-04\n",
            "Epoch 89/100\n",
            "6/6 [==============================] - 0s 2ms/step - loss: 5.8270e-04\n",
            "Epoch 90/100\n",
            "6/6 [==============================] - 0s 3ms/step - loss: 5.7095e-04\n",
            "Epoch 91/100\n",
            "6/6 [==============================] - 0s 2ms/step - loss: 5.5940e-04\n",
            "Epoch 92/100\n",
            "6/6 [==============================] - 0s 2ms/step - loss: 5.4525e-04\n",
            "Epoch 93/100\n",
            "6/6 [==============================] - 0s 3ms/step - loss: 5.3354e-04\n",
            "Epoch 94/100\n",
            "6/6 [==============================] - 0s 2ms/step - loss: 5.2306e-04\n",
            "Epoch 95/100\n",
            "6/6 [==============================] - 0s 2ms/step - loss: 5.1102e-04\n",
            "Epoch 96/100\n",
            "6/6 [==============================] - 0s 2ms/step - loss: 5.0300e-04\n",
            "Epoch 97/100\n",
            "6/6 [==============================] - 0s 2ms/step - loss: 4.9289e-04\n",
            "Epoch 98/100\n",
            "6/6 [==============================] - 0s 2ms/step - loss: 4.8414e-04\n",
            "Epoch 99/100\n",
            "6/6 [==============================] - 0s 2ms/step - loss: 4.7728e-04\n",
            "Epoch 100/100\n",
            "6/6 [==============================] - 0s 2ms/step - loss: 4.6876e-04\n"
          ],
          "name": "stdout"
        },
        {
          "output_type": "execute_result",
          "data": {
            "text/plain": [
              "<tensorflow.python.keras.callbacks.History at 0x7f41a940efd0>"
            ]
          },
          "metadata": {
            "tags": []
          },
          "execution_count": 19
        }
      ]
    },
    {
      "cell_type": "code",
      "metadata": {
        "id": "ktqiHgdHb0Uk",
        "outputId": "f9f0960d-87c6-4bcc-cf84-5ca22f11a30f",
        "colab": {
          "base_uri": "https://localhost:8080/",
          "height": 265
        }
      },
      "source": [
        "output = model.predict(X)\n",
        "plt.figure()\n",
        "plt.plot(X, y, 'rx', X, output, 'b--o')\n",
        "plt.show()"
      ],
      "execution_count": 22,
      "outputs": [
        {
          "output_type": "display_data",
          "data": {
            "image/png": "[encoded data removed]",
            "text/plain": [
              "<Figure size 432x288 with 1 Axes>"
            ]
          },
          "metadata": {
            "tags": [],
            "needs_background": "light"
          }
        }
      ]
    },
    {
      "cell_type": "code",
      "metadata": {
        "id": "Ekl57Wg6cQ18",
        "outputId": "69d4e6b8-0c77-4b03-c192-49d807c6a6e4",
        "colab": {
          "base_uri": "https://localhost:8080/",
          "height": 0
        }
      },
      "source": [
        "print(model.weights)"
      ],
      "execution_count": 23,
      "outputs": [
        {
          "output_type": "stream",
          "text": [
            "[<tf.Variable 'dense_4/kernel:0' shape=(1, 4) dtype=float32, numpy=\n",
            "array([[-1.5331733 ,  1.1194304 ,  0.43322155,  0.5206658 ]],\n",
            "      dtype=float32)>, <tf.Variable 'dense_4/bias:0' shape=(4,) dtype=float32, numpy=array([-0.02804528,  0.03677338, -0.11470403,  0.08307421], dtype=float32)>, <tf.Variable 'dense_5/kernel:0' shape=(4, 1) dtype=float32, numpy=\n",
            "array([[-1.4453373 ],\n",
            "       [ 0.49334052],\n",
            "       [ 0.05352083],\n",
            "       [ 0.6703892 ]], dtype=float32)>, <tf.Variable 'dense_5/bias:0' shape=(1,) dtype=float32, numpy=array([0.09420814], dtype=float32)>]\n"
          ],
          "name": "stdout"
        }
      ]
    },
    {
      "cell_type": "markdown",
      "metadata": {
        "id": "Y3q8YI_LEXA-"
      },
      "source": [
        "#  MNIST"
      ]
    },
    {
      "cell_type": "code",
      "metadata": {
        "id": "PxVuqG55EbOi"
      },
      "source": [
        "from keras.datasets.mnist import load_data"
      ],
      "execution_count": 25,
      "outputs": []
    },
    {
      "cell_type": "code",
      "metadata": {
        "id": "dGA6qn9fdJ_A",
        "outputId": "e9cddf1d-1f1e-4f94-cf72-5a13346b7ed3",
        "colab": {
          "base_uri": "https://localhost:8080/",
          "height": 0
        }
      },
      "source": [
        "(Xtrain, ytrain), (Xtest, ytest) = load_data()\n",
        "print(Xtrain.shape, ytrain.shape)\n",
        "print(Xtest.shape, ytest.shape)"
      ],
      "execution_count": 32,
      "outputs": [
        {
          "output_type": "stream",
          "text": [
            "(60000, 28, 28) (60000,)\n",
            "(10000, 28, 28) (10000,)\n"
          ],
          "name": "stdout"
        }
      ]
    },
    {
      "cell_type": "code",
      "metadata": {
        "id": "6VU7OCZPdnD4",
        "outputId": "de18ae0e-5645-40b6-f99e-58cf9997386a",
        "colab": {
          "base_uri": "https://localhost:8080/",
          "height": 281
        }
      },
      "source": [
        "def show(X, y, index=0):\n",
        "  plt.figure()\n",
        "  plt.imshow(X[index], cmap='gray')\n",
        "  plt.title('Target: {}'.format(y[index]))\n",
        "  plt.show()\n",
        "\n",
        "show(Xtrain, ytrain, 83)"
      ],
      "execution_count": 40,
      "outputs": [
        {
          "output_type": "display_data",
          "data": {
            "image/png": "[encoded data removed]",
            "text/plain": [
              "<Figure size 432x288 with 1 Axes>"
            ]
          },
          "metadata": {
            "tags": [],
            "needs_background": "light"
          }
        }
      ]
    },
    {
      "cell_type": "code",
      "metadata": {
        "id": "AzK8u_1leXwg"
      },
      "source": [
        "Xtrain_vec = np.reshape(Xtrain, (60000, -1))\n",
        "Xtest_vec = np.reshape(Xtest, (10000, -1))\n",
        "# ytrain_vec = np.zeros((60000, 10))\n",
        "# ytest_vec = np.zeros((10000, 10))\n",
        "# ytrain_vec[np.arange(60000), ytrain] = 1\n",
        "# ytest_vec[np.arange(10000), ytest] = 1"
      ],
      "execution_count": 54,
      "outputs": []
    },
    {
      "cell_type": "code",
      "metadata": {
        "id": "zL2c1EB1eBBF",
        "outputId": "92979dba-02e7-49e7-e246-bc07e5d3b3a0",
        "colab": {
          "base_uri": "https://localhost:8080/",
          "height": 0
        }
      },
      "source": [
        "model = Sequential()\n",
        "model.add(Dense(16, activation='sigmoid', input_shape=(28*28, )))\n",
        "model.add(Dense(8, activation='sigmoid'))\n",
        "model.add(Dense(10, activation='softmax'))\n",
        "model.summary()"
      ],
      "execution_count": 58,
      "outputs": [
        {
          "output_type": "stream",
          "text": [
            "Model: \"sequential_8\"\n",
            "_________________________________________________________________\n",
            "Layer (type)                 Output Shape              Param #   \n",
            "=================================================================\n",
            "dense_18 (Dense)             (None, 16)                12560     \n",
            "_________________________________________________________________\n",
            "dense_19 (Dense)             (None, 8)                 136       \n",
            "_________________________________________________________________\n",
            "dense_20 (Dense)             (None, 10)                90        \n",
            "=================================================================\n",
            "Total params: 12,786\n",
            "Trainable params: 12,786\n",
            "Non-trainable params: 0\n",
            "_________________________________________________________________\n"
          ],
          "name": "stdout"
        }
      ]
    },
    {
      "cell_type": "code",
      "metadata": {
        "id": "qPx3cHu6fqbd"
      },
      "source": [
        "model.compile(optimizer='adam', loss='sparse_categorical_crossentropy', metrics=['accuracy'])"
      ],
      "execution_count": 59,
      "outputs": []
    },
    {
      "cell_type": "code",
      "metadata": {
        "id": "x-bNTz6Df5_B",
        "outputId": "a70e55bf-bafd-4fb3-df3a-522fc6d85d57",
        "colab": {
          "base_uri": "https://localhost:8080/",
          "height": 0
        }
      },
      "source": [
        "model.fit(Xtrain_vec, ytrain, batch_size=32, epochs=20, validation_data=(Xtest_vec, ytest))"
      ],
      "execution_count": 60,
      "outputs": [
        {
          "output_type": "stream",
          "text": [
            "Epoch 1/20\n",
            "1875/1875 [==============================] - 2s 1ms/step - loss: 1.5742 - accuracy: 0.5265 - val_loss: 1.0548 - val_accuracy: 0.6950\n",
            "Epoch 2/20\n",
            "1875/1875 [==============================] - 3s 1ms/step - loss: 0.9266 - accuracy: 0.7161 - val_loss: 0.8009 - val_accuracy: 0.7437\n",
            "Epoch 3/20\n",
            "1875/1875 [==============================] - 3s 1ms/step - loss: 0.7605 - accuracy: 0.7655 - val_loss: 0.6812 - val_accuracy: 0.8023\n",
            "Epoch 4/20\n",
            "1875/1875 [==============================] - 3s 1ms/step - loss: 0.6934 - accuracy: 0.7898 - val_loss: 0.6518 - val_accuracy: 0.7984\n",
            "Epoch 5/20\n",
            "1875/1875 [==============================] - 3s 2ms/step - loss: 0.6389 - accuracy: 0.8087 - val_loss: 0.6385 - val_accuracy: 0.8067\n",
            "Epoch 6/20\n",
            "1875/1875 [==============================] - 2s 1ms/step - loss: 0.6016 - accuracy: 0.8198 - val_loss: 0.5990 - val_accuracy: 0.8245\n",
            "Epoch 7/20\n",
            "1875/1875 [==============================] - 2s 1ms/step - loss: 0.5760 - accuracy: 0.8303 - val_loss: 0.5411 - val_accuracy: 0.8436\n",
            "Epoch 8/20\n",
            "1875/1875 [==============================] - 2s 1ms/step - loss: 0.5498 - accuracy: 0.8387 - val_loss: 0.5834 - val_accuracy: 0.8124\n",
            "Epoch 9/20\n",
            "1875/1875 [==============================] - 2s 1ms/step - loss: 0.5346 - accuracy: 0.8378 - val_loss: 0.4840 - val_accuracy: 0.8623\n",
            "Epoch 10/20\n",
            "1875/1875 [==============================] - 2s 1ms/step - loss: 0.5013 - accuracy: 0.8567 - val_loss: 0.4839 - val_accuracy: 0.8643\n",
            "Epoch 11/20\n",
            "1875/1875 [==============================] - 2s 1ms/step - loss: 0.5075 - accuracy: 0.8529 - val_loss: 0.4876 - val_accuracy: 0.8660\n",
            "Epoch 12/20\n",
            "1875/1875 [==============================] - 2s 1ms/step - loss: 0.4741 - accuracy: 0.8644 - val_loss: 0.4438 - val_accuracy: 0.8768\n",
            "Epoch 13/20\n",
            "1875/1875 [==============================] - 2s 1ms/step - loss: 0.4531 - accuracy: 0.8702 - val_loss: 0.4476 - val_accuracy: 0.8686\n",
            "Epoch 14/20\n",
            "1875/1875 [==============================] - 2s 1ms/step - loss: 0.4541 - accuracy: 0.8682 - val_loss: 0.4472 - val_accuracy: 0.8664\n",
            "Epoch 15/20\n",
            "1875/1875 [==============================] - 2s 1ms/step - loss: 0.4472 - accuracy: 0.8702 - val_loss: 0.4208 - val_accuracy: 0.8852\n",
            "Epoch 16/20\n",
            "1875/1875 [==============================] - 2s 1ms/step - loss: 0.4357 - accuracy: 0.8755 - val_loss: 0.4265 - val_accuracy: 0.8807\n",
            "Epoch 17/20\n",
            "1875/1875 [==============================] - 2s 1ms/step - loss: 0.4455 - accuracy: 0.8722 - val_loss: 0.4482 - val_accuracy: 0.8724\n",
            "Epoch 18/20\n",
            "1875/1875 [==============================] - 2s 1ms/step - loss: 0.4402 - accuracy: 0.8736 - val_loss: 0.4671 - val_accuracy: 0.8671\n",
            "Epoch 19/20\n",
            "1875/1875 [==============================] - 2s 1ms/step - loss: 0.4253 - accuracy: 0.8781 - val_loss: 0.4118 - val_accuracy: 0.8888\n",
            "Epoch 20/20\n",
            "1875/1875 [==============================] - 2s 1ms/step - loss: 0.4069 - accuracy: 0.8855 - val_loss: 0.4165 - val_accuracy: 0.8821\n"
          ],
          "name": "stdout"
        },
        {
          "output_type": "execute_result",
          "data": {
            "text/plain": [
              "<tensorflow.python.keras.callbacks.History at 0x7f41a9350748>"
            ]
          },
          "metadata": {
            "tags": []
          },
          "execution_count": 60
        }
      ]
    }
  ]
}