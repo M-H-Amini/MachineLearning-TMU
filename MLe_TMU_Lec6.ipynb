{
  "nbformat": 4,
  "nbformat_minor": 0,
  "metadata": {
    "colab": {
      "name": "MLe_TMU_Lec6.ipynb",
      "provenance": [],
      "collapsed_sections": [],
      "toc_visible": true,
      "authorship_tag": "ABX9TyN8QVC0HuhBFHzfvIaU3JjK",
      "include_colab_link": true
    },
    "kernelspec": {
      "name": "python3",
      "display_name": "Python 3"
    }
  },
  "cells": [
    {
      "cell_type": "markdown",
      "metadata": {
        "id": "view-in-github",
        "colab_type": "text"
      },
      "source": [
        "<a href=\"https://colab.research.google.com/github/M-H-Amini/MachineLearning-TMU/blob/master/MLe_TMU_Lec6.ipynb\" target=\"_parent\"><img src=\"https://colab.research.google.com/assets/colab-badge.svg\" alt=\"Open In Colab\"/></a>"
      ]
    },
    {
      "cell_type": "markdown",
      "metadata": {
        "id": "S_v4yTIjfigI"
      },
      "source": [
        "# In The Name Of ALLAH\n",
        "# Machine Learning *elementary* Course\n",
        "## Tarbiat Modares University\n",
        "### Mohammad Hossein Amini (mhamini@aut.ac.ir)\n",
        "# Lecture 6\n",
        "\n",
        "<img src=\"https://drive.google.com/uc?id=144SDpgv7EEy6Og1ZFNIv_nBaugKGiSCE\" width=\"400\">\n",
        "\n"
      ]
    },
    {
      "cell_type": "code",
      "metadata": {
        "id": "1SYPCPWZPE2y"
      },
      "source": [
        "import numpy as np\n",
        "import matplotlib.pyplot as plt\n",
        "from sklearn.cluster import KMeans"
      ],
      "execution_count": null,
      "outputs": []
    },
    {
      "cell_type": "markdown",
      "metadata": {
        "id": "2-DlUVsJ4Qvl"
      },
      "source": [
        "# K-Means Clustering\n",
        "\n",
        "Using *sklearn*, it's so easy to have K-means clustering. Let's see a simple example."
      ]
    },
    {
      "cell_type": "code",
      "metadata": {
        "id": "raR6P8ci4sm4"
      },
      "source": [
        "X = np.array([[2, 1, 0, 20, 22]]).T\n",
        "kmeans = KMeans(2).fit(X)"
      ],
      "execution_count": null,
      "outputs": []
    },
    {
      "cell_type": "code",
      "metadata": {
        "id": "pG7wXqx0P3rG"
      },
      "source": [
        "print(kmeans.labels_)\n",
        "print(kmeans.cluster_centers_)"
      ],
      "execution_count": null,
      "outputs": []
    },
    {
      "cell_type": "markdown",
      "metadata": {
        "id": "_qONFnyV4tXR"
      },
      "source": [
        "#  Image Compression\n",
        "As discussed in the video lecture, we can use K-means clustering for image compression. Let's see how it's done in action."
      ]
    },
    {
      "cell_type": "code",
      "metadata": {
        "id": "CRX3GCJt4-b3"
      },
      "source": [
        "img = plt.imread('gilbert.jpeg')\n",
        "\n",
        "plt.figure()\n",
        "plt.imshow(img)\n",
        "plt.axis('off')\n",
        "plt.show()"
      ],
      "execution_count": null,
      "outputs": []
    },
    {
      "cell_type": "code",
      "metadata": {
        "id": "D9mNCEh3QxtZ"
      },
      "source": [
        "X = np.reshape(img, (-1, 3))\n",
        "print(X.shape)\n",
        "print(len(np.unique(X, axis=0)))"
      ],
      "execution_count": null,
      "outputs": []
    },
    {
      "cell_type": "code",
      "metadata": {
        "id": "zRqi8ZYyRqBe"
      },
      "source": [
        "kmeans = KMeans(10).fit(X)"
      ],
      "execution_count": null,
      "outputs": []
    },
    {
      "cell_type": "code",
      "metadata": {
        "id": "lfSnvDEaRzcQ"
      },
      "source": [
        "Xnew = np.zeros_like(X)\n",
        "for i in range(Xnew.shape[0]):\n",
        "  Xnew[i] = kmeans.cluster_centers_[kmeans.labels_[i]]\n",
        "img_new = Xnew.reshape((img.shape[0], img.shape[1], 3))"
      ],
      "execution_count": null,
      "outputs": []
    },
    {
      "cell_type": "code",
      "metadata": {
        "id": "49trueTySnkp"
      },
      "source": [
        "plt.figure()\n",
        "plt.imshow(img_new)\n",
        "plt.show()"
      ],
      "execution_count": null,
      "outputs": []
    },
    {
      "cell_type": "code",
      "metadata": {
        "id": "JEI6o0I9TCz3"
      },
      "source": [
        "def compress(filename, k):\n",
        "  img = plt.imread(filename)\n",
        "  X = img.reshape((-1, 3))\n",
        "  km = KMeans(k).fit(X)\n",
        "  Xnew = np.zeros_like(X)\n",
        "  for i in range(Xnew.shape[0]):\n",
        "    Xnew[i] = km.cluster_centers_[km.labels_[i]]\n",
        "  img_new = Xnew.reshape(img.shape)\n",
        "  return img_new"
      ],
      "execution_count": null,
      "outputs": []
    },
    {
      "cell_type": "code",
      "metadata": {
        "id": "ualnX4z5T2Ug"
      },
      "source": [
        "img1 = compress('gilbert.jpeg', 20)\n",
        "plt.figure()\n",
        "plt.imshow(img1)\n",
        "plt.show()"
      ],
      "execution_count": null,
      "outputs": []
    },
    {
      "cell_type": "code",
      "metadata": {
        "id": "5b3aRmMdUKhJ"
      },
      "source": [
        "def compare(filename, k_list):\n",
        "  img = plt.imread(filename)\n",
        "  plt.figure(figsize=(12, 12))\n",
        "  plt.subplot(221)\n",
        "  plt.imshow(img)\n",
        "  plt.title('Original')\n",
        "  plt.subplot(222)\n",
        "  img1 = compress(filename, k_list[0])\n",
        "  print('First compression done...')\n",
        "  plt.imshow(img1)\n",
        "  plt.axis('off')\n",
        "  plt.title(f'K = {k_list[0]}')\n",
        "  plt.subplot(223)\n",
        "  img2 = compress(filename, k_list[1])\n",
        "  print('Second compression done...')\n",
        "  plt.imshow(img2)\n",
        "  plt.axis('off')\n",
        "  plt.title(f'K = {k_list[1]}')\n",
        "  plt.subplot(224)\n",
        "  img3 = compress(filename, k_list[2])\n",
        "  print('Third compression done...')\n",
        "  plt.imshow(img3)\n",
        "  plt.axis('off')\n",
        "  plt.title(f'K = {k_list[2]}')\n",
        "  plt.show()\n",
        "\n",
        "compare('gilbert.jpeg', [2, 13, 50])"
      ],
      "execution_count": null,
      "outputs": []
    }
  ]
}