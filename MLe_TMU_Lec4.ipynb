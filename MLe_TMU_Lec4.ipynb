{
  "nbformat": 4,
  "nbformat_minor": 0,
  "metadata": {
    "colab": {
      "name": "MLe_TMU_Lec4.ipynb",
      "provenance": [],
      "collapsed_sections": [],
      "toc_visible": true,
      "authorship_tag": "ABX9TyNKUBOlPppXdNmz4mGreFEL",
      "include_colab_link": true
    },
    "kernelspec": {
      "name": "python3",
      "display_name": "Python 3"
    }
  },
  "cells": [
    {
      "cell_type": "markdown",
      "metadata": {
        "id": "view-in-github",
        "colab_type": "text"
      },
      "source": [
        "<a href=\"https://colab.research.google.com/github/M-H-Amini/MachineLearning-TMU/blob/master/MLe_TMU_Lec4.ipynb\" target=\"_parent\"><img src=\"https://colab.research.google.com/assets/colab-badge.svg\" alt=\"Open In Colab\"/></a>"
      ]
    },
    {
      "cell_type": "markdown",
      "metadata": {
        "id": "WYJpsjH8nluG"
      },
      "source": [
        "# In The Name Of ALLAH\n",
        "# Machine Learning *elementary* Course\n",
        "## Tarbiat Modares University\n",
        "### Mohammad Hossein Amini (mhamini@aut.ac.ir)\n",
        "# Lecture 4\n",
        "\n",
        "<img src=\"https://github.com/M-H-Amini/MachineLearning-AUT/blob/master/stuff/MLAUT.jpg?raw=true\" width=\"400\">\n",
        "\n",
        "\n",
        "\n"
      ]
    },
    {
      "cell_type": "markdown",
      "metadata": {
        "id": "n51Q76GlqYSY"
      },
      "source": [
        "# Introduction\n",
        "In this lecture, we will classify tumors as **malignant** and **benign** using **Logistic Regression** and **SVM**.\n",
        "\n",
        "We would implement logistic regression using **keras** and svm using **scikit**."
      ]
    },
    {
      "cell_type": "code",
      "metadata": {
        "id": "c6g3dUISdojD"
      },
      "source": [
        "from sklearn.datasets import load_breast_cancer\n",
        "from sklearn.svm import SVC\n",
        "import matplotlib.pyplot as plt              \n",
        "import numpy as np   \n",
        "import pandas as pd    \n",
        "import keras"
      ],
      "execution_count": null,
      "outputs": []
    },
    {
      "cell_type": "markdown",
      "metadata": {
        "id": "aEMoAHOLok46"
      },
      "source": [
        "# Dataset Preparation\n",
        "Let's download the dataset."
      ]
    },
    {
      "cell_type": "code",
      "metadata": {
        "id": "IWt5MD49eEMi"
      },
      "source": [
        "data = load_breast_cancer()\n",
        "X = data.data\n",
        "y = data.target\n",
        "y = np.expand_dims(y, 1)\n",
        "ds_arr = np.concatenate((X, y), axis=1)"
      ],
      "execution_count": null,
      "outputs": []
    },
    {
      "cell_type": "markdown",
      "metadata": {
        "id": "P1CIOCUkoo0z"
      },
      "source": [
        "Now we would create a pandas DataFrame for the dataset and separate the test and the training parts!"
      ]
    },
    {
      "cell_type": "code",
      "metadata": {
        "id": "AQLUTVQheP1Z"
      },
      "source": [
        "labels = list(data.feature_names) + ['Target']\n",
        "ds = pd.DataFrame(ds_arr, columns=labels)"
      ],
      "execution_count": null,
      "outputs": []
    },
    {
      "cell_type": "code",
      "metadata": {
        "id": "Yukxh8XWPrT2"
      },
      "source": [
        "ds = ds.sample(frac=1., random_state=0).reset_index(drop=True)\n",
        "ds.head()"
      ],
      "execution_count": null,
      "outputs": []
    },
    {
      "cell_type": "code",
      "metadata": {
        "id": "R7-04TWBR7Az"
      },
      "source": [
        "ds_arr = np.array(ds)\n",
        "index = 500\n",
        "Xtrain = ds_arr[:index, :-1]\n",
        "ytrain = ds_arr[:index, -1:]\n",
        "Xtest = ds_arr[index:, :-1]\n",
        "ytest = ds_arr[index:, -1:]\n",
        "print(Xtrain.shape, ytrain.shape, Xtest.shape, ytest.shape)"
      ],
      "execution_count": null,
      "outputs": []
    },
    {
      "cell_type": "markdown",
      "metadata": {
        "id": "fv14YFZ4poUW"
      },
      "source": [
        "# Logistic Regression\n",
        "Let's do the logistic regression now!"
      ]
    },
    {
      "cell_type": "code",
      "metadata": {
        "id": "VuFWxeWViXbX"
      },
      "source": [
        "model = keras.Sequential([keras.layers.Dense(1, activation='sigmoid', input_shape=(30,))])\n",
        "model.compile(loss='binary_crossentropy', optimizer='adam', metrics=['accuracy'])"
      ],
      "execution_count": null,
      "outputs": []
    },
    {
      "cell_type": "code",
      "metadata": {
        "id": "-NG3JbqGTA3a"
      },
      "source": [
        "hist = model.fit(Xtrain, ytrain, batch_size=32, epochs=50, validation_data=(Xtest, ytest))"
      ],
      "execution_count": null,
      "outputs": []
    },
    {
      "cell_type": "code",
      "metadata": {
        "id": "R-loLCwvTnGe"
      },
      "source": [
        "losses = hist.history['loss']\n",
        "plt.figure()\n",
        "plt.plot(range(len(losses)), losses, 'r--x')\n",
        "plt.ylabel('Losses')\n",
        "plt.xlabel('Epochs')\n",
        "plt.show()"
      ],
      "execution_count": null,
      "outputs": []
    },
    {
      "cell_type": "markdown",
      "metadata": {
        "id": "TAKedk7jptDQ"
      },
      "source": [
        "Testing and seeing our brilliant result would be so fun."
      ]
    },
    {
      "cell_type": "code",
      "metadata": {
        "id": "8jV1PLMimCL0"
      },
      "source": [
        "outputs = model.predict(Xtest)\n",
        "for i in range(len(Xtest)):\n",
        "  print(f'No {i+1}\\tTarget: {ytest[i, 0]}\\tPrediction: {outputs[i, 0]:4.2f}')"
      ],
      "execution_count": null,
      "outputs": []
    },
    {
      "cell_type": "markdown",
      "metadata": {
        "id": "bw_nzmNaLPNY"
      },
      "source": [
        "#  Support Vector Machines"
      ]
    },
    {
      "cell_type": "code",
      "metadata": {
        "id": "2SSLFgK0LSye"
      },
      "source": [
        "svm = SVC(kernel='rbf', C=10000).fit(Xtrain, ytrain)"
      ],
      "execution_count": null,
      "outputs": []
    },
    {
      "cell_type": "code",
      "metadata": {
        "id": "MHNTijclU-DP"
      },
      "source": [
        "tags = ['M', 'B']\n",
        "outputs = svm.predict(Xtest)\n",
        "corrects, wrongs = 0, 0\n",
        "for i in range(len(Xtest)):\n",
        "  print(f'No {i+1}\\tTarget: {tags[int(ytest[i, 0])]}\\t\\tPrediction: {tags[int(outputs[i])]}')\n",
        "  if abs(ytest[i, 0] - outputs[i]) <= .5:\n",
        "    corrects += 1\n",
        "  else:\n",
        "    wrongs += 1\n",
        "print('Accuracy: ', corrects / (corrects + wrongs))"
      ],
      "execution_count": null,
      "outputs": []
    }
  ]
}