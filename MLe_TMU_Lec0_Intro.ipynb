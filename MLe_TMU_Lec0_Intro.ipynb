{
  "nbformat": 4,
  "nbformat_minor": 0,
  "metadata": {
    "colab": {
      "name": "MLe-TMU-Lec0-Intro.ipynb",
      "provenance": [],
      "collapsed_sections": [],
      "toc_visible": true,
      "authorship_tag": "ABX9TyP6ySYb9HuohUpZSLKOM4QJ",
      "include_colab_link": true
    },
    "kernelspec": {
      "name": "python3",
      "display_name": "Python 3"
    }
  },
  "cells": [
    {
      "cell_type": "markdown",
      "metadata": {
        "id": "view-in-github",
        "colab_type": "text"
      },
      "source": [
        "<a href=\"https://colab.research.google.com/github/M-H-Amini/MachineLearning-TMU/blob/master/MLe_TMU_Lec0_Intro.ipynb\" target=\"_parent\"><img src=\"https://colab.research.google.com/assets/colab-badge.svg\" alt=\"Open In Colab\"/></a>"
      ]
    },
    {
      "cell_type": "markdown",
      "metadata": {
        "id": "5cPtAMSHjXhb",
        "colab_type": "text"
      },
      "source": [
        "# In The Name Of ALLAH\n",
        "# Machine Learning *elementary* Course\n",
        "## Tarbiat Modares University\n",
        "### Mohammad Hossein Amini (mhamini@aut.ac.ir)\n",
        "# Lecture 0 - Intro\n",
        "\n",
        "<img src=\"https://github.com/M-H-Amini/MachineLearning-AUT/blob/master/stuff/MLAUT.jpg?raw=true\" width=\"400\">\n",
        "\n"
      ]
    },
    {
      "cell_type": "markdown",
      "metadata": {
        "id": "IFF_jUOWlJjk",
        "colab_type": "text"
      },
      "source": [
        "# Basic Operations"
      ]
    },
    {
      "cell_type": "code",
      "metadata": {
        "id": "N-02BVsKjKry",
        "colab_type": "code",
        "colab": {}
      },
      "source": [
        "print('Machine Learning')\n",
        "input('Enter sth')"
      ],
      "execution_count": null,
      "outputs": []
    },
    {
      "cell_type": "markdown",
      "metadata": {
        "id": "WryOVoQBlk3r",
        "colab_type": "text"
      },
      "source": [
        "# Variables"
      ]
    },
    {
      "cell_type": "code",
      "metadata": {
        "id": "p_htMK0Tlji1",
        "colab_type": "code",
        "colab": {}
      },
      "source": [
        "a = 5\n",
        "print(type(a))\n",
        "a = 4.5\n",
        "print(type(a))\n",
        "a = 'Hello there!'\n",
        "print(type(a))\n",
        "n = input('Enter your name: ')\n",
        "print('Hello', n)"
      ],
      "execution_count": null,
      "outputs": []
    },
    {
      "cell_type": "markdown",
      "metadata": {
        "id": "8FY99NEvlxKy",
        "colab_type": "text"
      },
      "source": [
        "# Arrays"
      ]
    },
    {
      "cell_type": "code",
      "metadata": {
        "id": "ypebv6obl8db",
        "colab_type": "code",
        "colab": {}
      },
      "source": [
        "#  List...\n",
        "'''\n",
        "l = [28, 47, 83]\n",
        "print(l)\n",
        "l.append(76)\n",
        "print(l)\n",
        "l.append('Bye')\n",
        "print(l)\n",
        "m = ['Hi', 17.1]\n",
        "n = l + m\n",
        "print(n)\n",
        "print(len(l))\n",
        "print(len(m))\n",
        "print(len(n))\n",
        "l.append(m)\n",
        "print(len(l))\n",
        "print(l)\n",
        "p = l[1:5]\n",
        "print(p)\n",
        "'''\n",
        "#  Tupple...\n",
        "'''\n",
        "l1 = [2, 3, 9]\n",
        "t1 = (2, 3, 9)\n",
        "print(l1, t1)\n",
        "l1[0] = 28\n",
        "print(l1)\n",
        "t2 = 'Shayan', 75\n",
        "print(t2)\n",
        "name, year = t2\n",
        "print(year)\n",
        "'''\n",
        "#  Dictionary...\n",
        "grade = {'Linear Algebra':20, 'Elec2':15, 'Linear Control':19}\n",
        "print(grade['Elec2'])\n",
        "grade['Math'] = 18\n",
        "print(grade['Math'])\n",
        "print(grade)\n",
        "print(grade.keys())\n",
        "print(grade.values())\n",
        "print(grade.items())"
      ],
      "execution_count": null,
      "outputs": []
    },
    {
      "cell_type": "markdown",
      "metadata": {
        "id": "fHMZ7qCZl9qw",
        "colab_type": "text"
      },
      "source": [
        "# Control Flows "
      ]
    },
    {
      "cell_type": "code",
      "metadata": {
        "id": "AMx9HGbvmXos",
        "colab_type": "code",
        "colab": {}
      },
      "source": [
        "grade = 8\n",
        "if grade>17:\n",
        "  print('A')\n",
        "elif grade>14:\n",
        "  print('B')\n",
        "elif grade>10:\n",
        "  print('C')\n",
        "else:\n",
        "  print('D')\n",
        "\n",
        "for i in range(10):  #  range(a, b) --> a, a+1, ..., b-1\n",
        "  print(i, end=', ')\n",
        "print()\n",
        "\n",
        "#print(list(range(20)))"
      ],
      "execution_count": null,
      "outputs": []
    },
    {
      "cell_type": "markdown",
      "metadata": {
        "id": "yACatlndma_m",
        "colab_type": "text"
      },
      "source": [
        "# Functions"
      ]
    },
    {
      "cell_type": "code",
      "metadata": {
        "id": "rzKkJbqvm_hW",
        "colab_type": "code",
        "colab": {}
      },
      "source": [
        "def factors(n):\n",
        "  return [i for i in range(1, n+1) if not n%i]\n",
        "\n",
        "def isPrime(n):\n",
        "  return True if len(factors(n))==2 else False\n",
        "\n",
        "def primes(a, b):\n",
        "  return [i for i in range(a, b) if isPrime(i)], len([i for i in range(a, b) if isPrime(i)])\n",
        "\n",
        "#isPrime(10)\n",
        "#isPrime(16)\n",
        "#isPrime(19)\n",
        "a = factors(24)\n",
        "print(a)\n",
        "print(isPrime(11))\n",
        "numbers, no = primes(100, 1000)\n",
        "#print(numbers)\n",
        "print(no)"
      ],
      "execution_count": null,
      "outputs": []
    },
    {
      "cell_type": "markdown",
      "metadata": {
        "id": "qv9GIHDdS5EL",
        "colab_type": "text"
      },
      "source": [
        "# Classes"
      ]
    },
    {
      "cell_type": "code",
      "metadata": {
        "id": "FQPWmGNMS8jQ",
        "colab_type": "code",
        "colab": {}
      },
      "source": [
        "class Student:\n",
        "  def __init__(self, name, lessons, phone):\n",
        "    self.name = name\n",
        "    self.l = lessons\n",
        "    self.telephone = phone\n",
        "\n",
        "  def show(self):\n",
        "    print(f'Name: {self.name} \\nLessons: {self.l} \\nTelephone: {self.telephone}')\n",
        "\n",
        "  def avg(self):\n",
        "    return sum(self.l.values()) / len(self.l.values())\n",
        "\n",
        "mha = Student('MHA', {'Elec1':19, 'Elec2':15, 'Math':20}, 12345)\n",
        "ak = Student('Alireza', {'Adaptive':20, 'Stochastic':20}, 54321)\n",
        "ak.show()\n",
        "print('Average is: ', mha.avg())"
      ],
      "execution_count": null,
      "outputs": []
    },
    {
      "cell_type": "markdown",
      "metadata": {
        "id": "YyDzBXFbm-kk",
        "colab_type": "text"
      },
      "source": [
        "# Matplotlib"
      ]
    },
    {
      "cell_type": "code",
      "metadata": {
        "id": "In4KVMM9n-gW",
        "colab_type": "code",
        "colab": {}
      },
      "source": [
        "import matplotlib.pyplot as plt\n",
        "\n",
        "X = [-2, -1.5, 0.5, 5]\n",
        "Y = [i**2 for i in X]\n",
        "\n",
        "fig = plt.figure()\n",
        "plt.subplot(1, 2, 1)\n",
        "plt.plot(X, Y, 'r--x')\n",
        "plt.title('TMU')\n",
        "plt.xticks([-2, 4])\n",
        "plt.yticks([])\n",
        "plt.xlabel('X of my data')\n",
        "plt.ylabel('Y of my data')\n",
        "plt.subplot(1, 2, 2)\n",
        "plt.plot(X, Y, 'b-o')\n",
        "plt.title('TMU')\n",
        "plt.xticks([-2, 4])\n",
        "plt.yticks([])\n",
        "plt.xlabel('X of my data')\n",
        "plt.ylabel('Y of my data')\n",
        "plt.show()\n",
        "fig.savefig('Data.pdf')"
      ],
      "execution_count": null,
      "outputs": []
    },
    {
      "cell_type": "markdown",
      "metadata": {
        "id": "kqpsrIYZn-45",
        "colab_type": "text"
      },
      "source": [
        "# Numpy\n"
      ]
    },
    {
      "cell_type": "code",
      "metadata": {
        "id": "jK2GEX01oSSB",
        "colab_type": "code",
        "colab": {}
      },
      "source": [
        "import numpy as np\n",
        "\n",
        "'''\n",
        "a = np.array([4, 3., 2])\n",
        "s = np.sin(a)\n",
        "print(s)\n",
        "print(s.shape)\n",
        "\n",
        "a = np.array([[1, 5, 3], [2, 0.5, 1]])\n",
        "b = np.ones((2, 3))\n",
        "#print(a)\n",
        "#print(b)\n",
        "c = a + b\n",
        "print(c)\n",
        "d = np.eye(3)\n",
        "#print(d)\n",
        "e = np.dot(c, d)\n",
        "print(e)\n",
        "\n",
        "a = np.array([[1, 5, 3],\n",
        "              [2, 4, 1],\n",
        "              [1, 2, 9]])\n",
        "print(a.shape)\n",
        "print(a[1, 1])\n",
        "b = a[:, 1:2]\n",
        "print(b.shape)\n",
        "print(b)\n",
        "'''\n",
        "import time\n",
        "\n",
        "a = np.random.rand(1000000)\n",
        "b = np.random.rand(1000000)\n",
        "c = 0\n",
        "t0 = time.time()\n",
        "for i in range(a.shape[0]):\n",
        "  c += a[i]*b[i]\n",
        "t1 = time.time()\n",
        "print(c)\n",
        "print(f\"It took {t1 - t0} seconds!\")\n",
        "\n",
        "t0 = time.time()\n",
        "c = np.dot(a, b)\n",
        "t1 = time.time()\n",
        "print(c)\n",
        "print(f\"It took {t1 - t0} seconds!\")"
      ],
      "execution_count": null,
      "outputs": []
    },
    {
      "cell_type": "markdown",
      "metadata": {
        "id": "N7cBSUHPoWCL",
        "colab_type": "text"
      },
      "source": [
        "# Pandas"
      ]
    },
    {
      "cell_type": "code",
      "metadata": {
        "id": "gsaLqdL8oZ9V",
        "colab_type": "code",
        "colab": {}
      },
      "source": [
        "import pandas as pd\n",
        "ds = pd.read_csv('sample_data/california_housing_train.csv')"
      ],
      "execution_count": null,
      "outputs": []
    },
    {
      "cell_type": "code",
      "metadata": {
        "id": "eQkgJAR75NP8",
        "colab_type": "code",
        "colab": {}
      },
      "source": [
        "ds.head(10)"
      ],
      "execution_count": null,
      "outputs": []
    },
    {
      "cell_type": "code",
      "metadata": {
        "id": "CW_qbDZW5ZbI",
        "colab_type": "code",
        "colab": {}
      },
      "source": [
        "ds.tail()"
      ],
      "execution_count": null,
      "outputs": []
    },
    {
      "cell_type": "code",
      "metadata": {
        "id": "l_6hdqef5b20",
        "colab_type": "code",
        "colab": {}
      },
      "source": [
        "ds.describe()"
      ],
      "execution_count": null,
      "outputs": []
    },
    {
      "cell_type": "code",
      "metadata": {
        "id": "VrCUiSUk5qlf",
        "colab_type": "code",
        "colab": {}
      },
      "source": [
        "print(ds.shape)"
      ],
      "execution_count": null,
      "outputs": []
    }
  ]
}